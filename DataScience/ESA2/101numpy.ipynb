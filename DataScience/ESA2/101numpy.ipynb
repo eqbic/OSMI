{
  "nbformat": 4,
  "nbformat_minor": 0,
  "metadata": {
    "colab": {
      "name": "101numpy.ipynb",
      "provenance": [],
      "authorship_tag": "ABX9TyNfpVLkqGXusPFJscsBJOYc",
      "include_colab_link": true
    },
    "kernelspec": {
      "name": "python3",
      "display_name": "Python 3"
    },
    "language_info": {
      "name": "python"
    }
  },
  "cells": [
    {
      "cell_type": "markdown",
      "metadata": {
        "id": "view-in-github",
        "colab_type": "text"
      },
      "source": [
        "<a href=\"https://colab.research.google.com/github/eqbic/OSMI/blob/main/DataScience/ESA2/101numpy.ipynb\" target=\"_parent\"><img src=\"https://colab.research.google.com/assets/colab-badge.svg\" alt=\"Open In Colab\"/></a>"
      ]
    },
    {
      "cell_type": "markdown",
      "metadata": {
        "id": "gretDqCCfNVO"
      },
      "source": [
        "1. Import numpy as np"
      ]
    },
    {
      "cell_type": "code",
      "metadata": {
        "id": "a2COGYQOeyqZ"
      },
      "source": [
        "import numpy as np"
      ],
      "execution_count": null,
      "outputs": []
    }
  ]
}